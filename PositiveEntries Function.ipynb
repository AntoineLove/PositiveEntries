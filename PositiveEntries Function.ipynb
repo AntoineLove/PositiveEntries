{
 "cells": [
  {
   "cell_type": "markdown",
   "metadata": {},
   "source": [
    "I had a homework assignment to write recursive and for-loop programs for determining the number of positive entries in an array.  Here they are."
   ]
  },
  {
   "cell_type": "code",
   "execution_count": 43,
   "metadata": {},
   "outputs": [],
   "source": [
    "# The recursive program.  Runs in Theta(len(A)).\n",
    "def PosEntriesRec (array):\n",
    "    if len(array) == 0: # Checked len(A)+1 times\n",
    "        return 0; # Run once when len(A) = 0.\n",
    "    else: # Runs len(A) times when len(A) != 0.\n",
    "        if array[0] > 0: # Runs len(A) times.\n",
    "            return (1 + PosEntries(array[1:len(array)])); # Runs the positive entry number of times.\n",
    "        else: # Runs len(A) minus the positive entry number of times.\n",
    "            return PosEntries(array[1:len(array)]);"
   ]
  },
  {
   "cell_type": "code",
   "execution_count": 44,
   "metadata": {},
   "outputs": [],
   "source": [
    "# The for loop program.  Runs in Theta(len(A)) too.\n",
    "def PosEntries (array):\n",
    "    PosCount = 0 # Runs once.\n",
    "    for i in array: # Runs len(A) times\n",
    "        if i > 0: # Runs len(A) times\n",
    "            PosCount = PosCount + 1 # Runs the positive entry number of times.\n",
    "    return PosCount "
   ]
  },
  {
   "cell_type": "code",
   "execution_count": 45,
   "metadata": {},
   "outputs": [
    {
     "data": {
      "text/plain": [
       "8"
      ]
     },
     "execution_count": 45,
     "metadata": {},
     "output_type": "execute_result"
    }
   ],
   "source": [
    "A = [1,2,3,4,5,-1,-2,-3,-5,0,6,7,8,0,0,-6,-7,-8]\n",
    "PosEntriesRec(A)"
   ]
  },
  {
   "cell_type": "code",
   "execution_count": 46,
   "metadata": {},
   "outputs": [
    {
     "data": {
      "text/plain": [
       "8"
      ]
     },
     "execution_count": 46,
     "metadata": {},
     "output_type": "execute_result"
    }
   ],
   "source": [
    "PosEntries(A)"
   ]
  },
  {
   "cell_type": "code",
   "execution_count": 47,
   "metadata": {},
   "outputs": [
    {
     "data": {
      "text/plain": [
       "0"
      ]
     },
     "execution_count": 47,
     "metadata": {},
     "output_type": "execute_result"
    }
   ],
   "source": [
    "B = []\n",
    "PosEntriesRec(B)"
   ]
  },
  {
   "cell_type": "code",
   "execution_count": 48,
   "metadata": {},
   "outputs": [
    {
     "data": {
      "text/plain": [
       "0"
      ]
     },
     "execution_count": 48,
     "metadata": {},
     "output_type": "execute_result"
    }
   ],
   "source": [
    "PosEntries(B)"
   ]
  },
  {
   "cell_type": "markdown",
   "metadata": {},
   "source": [
    "That's it!  On to another problem and another program."
   ]
  },
  {
   "cell_type": "code",
   "execution_count": null,
   "metadata": {},
   "outputs": [],
   "source": []
  }
 ],
 "metadata": {
  "kernelspec": {
   "display_name": "Python 3",
   "language": "python",
   "name": "python3"
  },
  "language_info": {
   "codemirror_mode": {
    "name": "ipython",
    "version": 3
   },
   "file_extension": ".py",
   "mimetype": "text/x-python",
   "name": "python",
   "nbconvert_exporter": "python",
   "pygments_lexer": "ipython3",
   "version": "3.7.4"
  }
 },
 "nbformat": 4,
 "nbformat_minor": 4
}
